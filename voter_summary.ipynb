{
 "cells": [
  {
   "cell_type": "markdown",
   "metadata": {},
   "source": [
    "# PS106A Voter Summary Analysis - Geographic Data\n",
    "\n",
    "Author: Ian Castro, Fall 2020\n",
    "\n",
    "Hello! This notebook is designed to help speed up your analysis for the Political Science 106A: Campaign Media voter summary assignment. If you are unfamiliar with Jupyter notebooks, these are ways data scientists share Python code and analyses in an easy-to-read format. You do not need to know how to use Python to use this notebook, but if you are interested, check out the offerings from UC Berkeley's Data Science Education Program. Please refer to Professor Schnur's emails and the bCourses for the full prompt and all parts necessary for this assignment.\n",
    "\n",
    "For this notebook, we will focus on the **geographic** data analysis which will take most of your time. For the demographic analysis, I recommend working on that strictly in an Excel/Google sheet and keeping your analysis there, because there is a lot less data and it should already be grouped. \n",
    "\n",
    "In short, to use this notebook, you need to:\n",
    "> 1. Upload your data to the directory with this notebook\n",
    "> 2. Run cells by pressing Shift + Enter\n",
    "\n",
    "*Make sure you follow the instructions to ensure that this works.* You can find example datasets in bCourses.\n",
    "\n",
    "Best of luck! If you have any questions or issues navigating this assignment, email castro.ian@berkeley.edu."
   ]
  },
  {
   "cell_type": "markdown",
   "metadata": {},
   "source": [
    "## Step 1: Geographic Data Collection\n",
    "\n",
    "To start this assignment, please go to https://www.truckads.com/ to find the media markets and counties in your state for your particular campaign. **MAKE SURE YOU USE THE EXACT SAME COLUMN NAMES IN THE INSTRUCTIONS, OR ELSE THIS WILL NOT WORK.** \n",
    "\n",
    "\n",
    "First, open Excel or some other spreadsheet software. In that sheet, create 2 columns: `Media Market` and `County`. In each row, list the county in that state with its corresponding Media Market. For example:\n",
    "\n",
    "| Media Market | County |\n",
    "| ----------   | ------ |\n",
    "| Pittsburgh   | Allegheny |\n",
    "\n",
    "\n",
    "Save this file in Excel **as a csv**, with the file name as **\"media_markets.csv\"** and upload it to the directory of this notebook. You can do so by clicking on the toolbar the top, then File > Open... This will open a new tab. In that tab, click on Upload on the top right and upload your file to the directory.\n"
   ]
  },
  {
   "cell_type": "code",
   "execution_count": null,
   "metadata": {},
   "outputs": [],
   "source": [
    "## Importing the Data 8 modules for analysis and visualization. \n",
    "# Please run this cell by clicking Run at the top\n",
    "# or pressing shift + enter.\n",
    "from datascience import *\n",
    "import numpy as np\n",
    "import matplotlib\n",
    "import pandas as pd\n",
    "matplotlib.use('Agg', warn=False)\n",
    "%matplotlib inline\n",
    "import matplotlib.pyplot as plots\n",
    "plots.style.use('fivethirtyeight')\n",
    "from ipywidgets import interact, interactive, fixed, interact_manual\n",
    "import ipywidgets as widgets"
   ]
  },
  {
   "cell_type": "code",
   "execution_count": null,
   "metadata": {},
   "outputs": [],
   "source": [
    "# Now, run this cell by pressing shift + enter. \n",
    "# You should see a table appear if you did this correctly.\n",
    "media_markets = Table().read_table(\"media_markets.csv\")\n",
    "media_markets.show(5)"
   ]
  },
  {
   "cell_type": "markdown",
   "metadata": {},
   "source": [
    "Now, let's do the geographic analysis. Find the voting results for each county. You can usually find this by looking at each state's Secretary of State website and searching for election returns. Create a new Excel sheet with a table that has 5 columns: \n",
    "\n",
    "- `County` (the county that has the data), \n",
    "- `Winner` (the party that won the county). **Only use the label \"Democrat\" or \"Republican\"** \n",
    "- `# Voters D` (the # of voters for the Democratic candidate), \n",
    "- `# Voters R` (the # of voters for the Republican candidate), and\n",
    "- `Election` (the election you are analyzing, such as the 2016 Presidential or the 2018 Midterm). \n",
    "\n",
    "The following table is an example for Pennsylvania with 1 entry: \n",
    "\n",
    "| County | Winner | # Voters D | # Voters R | Election |\n",
    "| ---------| ------ | ------ | ---------- | ---------- | \n",
    "| Allegheny | Democrat | 367617 | 259480 | 2016 Presidential | \n",
    "\n",
    "\n",
    "Save this file in Excel **as a csv**, with the file name as **\"elections.csv\"** and upload it to the directory of this notebook. You can do so by clicking on the toolbar the top, then File > Open... This will open a new tab. In that tab, click on Upload on the top right and upload your file to the directory.\n"
   ]
  },
  {
   "cell_type": "code",
   "execution_count": null,
   "metadata": {},
   "outputs": [],
   "source": [
    "## This cell should show a table with your data if you did this correctly.\n",
    "elections = Table().read_table(\"elections.csv\")\n",
    "elections.show(5)"
   ]
  },
  {
   "cell_type": "code",
   "execution_count": null,
   "metadata": {},
   "outputs": [],
   "source": [
    "## Now that we have all of the data, let's combine our datasets. Run this cell.\n",
    "geo_voters = media_markets.join(\"County\", elections, \"County\")\n",
    "geo_voters.show(5)"
   ]
  },
  {
   "cell_type": "markdown",
   "metadata": {},
   "source": [
    "## Step 2: Data Consolidation\n",
    "\n",
    "The following cells will use your data and consolidate them by Media Market. For this section, **just run all of the cells and replace code when prompted** and read the outputs!\n"
   ]
  },
  {
   "cell_type": "code",
   "execution_count": null,
   "metadata": {},
   "outputs": [],
   "source": [
    "# How is your data broken down by Media Market?\n",
    "# This code will summarize the data by media market. Run this cell. \n",
    "def status(tbl):\n",
    "    grouped = tbl.group([\"Media Market\", \"Election\"], sum)\n",
    "    dems = grouped.column(\"# Voters D sum\")\n",
    "    reps = grouped.column(\"# Voters R sum\")\n",
    "    winners = dems >= reps # Assuming no tie in votes exists in the data\n",
    "    results = []\n",
    "    for i in winners:\n",
    "        if i == True:\n",
    "            results.append(\"Democrat\")\n",
    "        else:\n",
    "            results.append(\"Republican\")\n",
    "    final_table = grouped.select(\"Media Market\", \"# Voters D sum\", \"# Voters R sum\", \"Election\").with_column(\"Winner\", results)\n",
    "    return final_table"
   ]
  },
  {
   "cell_type": "code",
   "execution_count": null,
   "metadata": {},
   "outputs": [],
   "source": [
    "# Run this cell. \n",
    "# Getting your elections:\n",
    "your_elections = geo_voters.group(\"Election\").column(0)\n",
    "\n",
    "# Doing analysis by each election, finding the winner for that election  \n",
    "overall_results = Table().with_columns(\"Media Market\", [],\n",
    "                                      \"# Voters D sum\", [],\n",
    "                                      \"# Voters R sum\", [],\n",
    "                                       \"Election\", [],\n",
    "                                      \"Winner\", [])\n",
    "for election in your_elections:\n",
    "    by_election = geo_voters.where(\"Election\", election)\n",
    "    overall_results.append(status(by_election))\n",
    "    \n",
    "overall_results.show(5) # Show overall totals by media market in each election - see top table; \n",
    "# change to .show() to see all rows\n",
    "    \n",
    "# Combine the results and find how that market voted for all 4 elections - see bottom table\n",
    "mm_breakdown = overall_results.group(\"Media Market\", list).select(\"Media Market\", \"Winner list\")\n",
    "mm_breakdown.show()"
   ]
  },
  {
   "cell_type": "code",
   "execution_count": null,
   "metadata": {},
   "outputs": [],
   "source": [
    "# Now, let's add a label of \"Saint\", \"Sinner\", or \"Salvageable\" for each Media Market in each election\n",
    "# We will summarize winner in each market as a quantitative score. A Republican win will be scored as -1,\n",
    "# A Democratic win will be +1. Run this cell.\n",
    "\n",
    "mm_results = []\n",
    "for i in overall_results.column(\"Winner\"):\n",
    "    if i == \"Republican\":\n",
    "        mm_results.append(-1)\n",
    "    elif i == \"Democrat\":\n",
    "        mm_results.append(1)\n",
    "        \n",
    "scored_overall = overall_results.with_column(\"Score\", mm_results)\n",
    "scored_overall.show(5)"
   ]
  },
  {
   "cell_type": "code",
   "execution_count": null,
   "metadata": {},
   "outputs": [],
   "source": [
    "# Combine the data so we can get a score for each Media Market. \n",
    "# If a Media Market has a score of -4, it is a \"Saint\" for the Republican Party;\n",
    "# a score of +4, it is a \"Saint\" for the Democratic Party.\n",
    "# Otherwise, it is a salvageable Media Market. Run this cell.\n",
    "\n",
    "score_by_mm = scored_overall.group(\"Media Market\", sum).select(\"Media Market\", \"Score sum\")\n",
    "score_by_mm.show(5)"
   ]
  },
  {
   "cell_type": "code",
   "execution_count": null,
   "metadata": {},
   "outputs": [],
   "source": [
    "# Finally, add the label of Saint/Sinner/Salvageable to each Media Market. \n",
    "# COMPLETE THIS CODE:\n",
    "# If you are running a Republican candidate, replace SCORE_TBL with score_repub.\n",
    "# If you are running a Democratic candidate, replace SCORE_TBL with score_dems.\n",
    "score_repub = Table().with_columns(\"Status\", [\"Saint\", \"Sinner\"] + [\"Salvageable\"] * 7,\n",
    "                             \"Score\", [-4, 4, -3, -2, -1, 0, 1, 2, 3])\n",
    "\n",
    "score_dems = Table().with_columns(\"Status\", [\"Saint\", \"Sinner\"] + [\"Salvageable\"] * 7,\n",
    "                             \"Score\", [4, -4, -3, -2, -1, 0, 1, 2, 3])\n",
    "\n",
    "score_labeled = score_by_mm.join(\"Score sum\", SCORE_TBL, \"Score\") # make sure to replace SCORE_TBL!\n",
    "score_labeled.show() # See all media markets and status"
   ]
  },
  {
   "cell_type": "code",
   "execution_count": null,
   "metadata": {},
   "outputs": [],
   "source": [
    "# For your interest: what MMs are your \"Saint\"s, \"Sinner\"s, or \"Salvageable\"s?\n",
    "# REPLACE THIS CODE: Replace \"Saint\" in the code with the group you want to check.\n",
    "score_labeled.where(\"Status\", \"Saint\").column(\"Media Market\")"
   ]
  },
  {
   "cell_type": "markdown",
   "metadata": {},
   "source": [
    "## Step 3: Data Visualization\n",
    "\n",
    "Lastly, let's do some data visualization so we can compare data across media markets and by election. Like the last section, just run the cells and replace code when necessary."
   ]
  },
  {
   "cell_type": "code",
   "execution_count": null,
   "metadata": {},
   "outputs": [],
   "source": [
    "# First, let's just visualize the scores (i.e. who won the elections?)\n",
    "# Scores to the right say this MM voted for Democrats\n",
    "# Scores to the left say this MM voted for Republicans\n",
    "# No bar means this group is split 50/50 \n",
    "# Run this cell. \n",
    "score_labeled.barh(\"Media Market\", \"Score sum\")"
   ]
  },
  {
   "cell_type": "code",
   "execution_count": null,
   "metadata": {},
   "outputs": [],
   "source": [
    "# So, by how much did each party win each Media Market in each election?\n",
    "# Let's go create some proportions to standardize the data. Run this cell. \n",
    "total_votes = overall_results.column(\"# Voters D sum\") + overall_results.column(\"# Voters R sum\")\n",
    "with_margin = overall_results.with_columns(\"Prop Voters D\", overall_results.column(\"# Voters D sum\") / total_votes,\n",
    "                                           \"Prop Voters R\", overall_results.column(\"# Voters R sum\") / total_votes)\n",
    "\n",
    "def make_graph(election):\n",
    "    with_margin.where(\"Election\", election).barh(\"Media Market\", [\"Prop Voters D\", \"Prop Voters R\"])\n",
    "    \n",
    "with_margin.where(\"Election\", \"2016 Presidential\").show() \n",
    "# Replace \"2016 Presidential\" with the election you want to view; keep the name in quotes"
   ]
  },
  {
   "cell_type": "code",
   "execution_count": null,
   "metadata": {},
   "outputs": [],
   "source": [
    "# Let's see the breakdown of votes per election. Run this cell. You'll get a lot of graphs!\n",
    "for i in your_elections:\n",
    "    make_graph(i)\n",
    "    plots.title(i)"
   ]
  },
  {
   "cell_type": "markdown",
   "metadata": {},
   "source": [
    "# And that's it! \n",
    "\n",
    "That is your geographic analysis. As stated in the prompt, try doing your demographic analysis in an Excel sheet (it's a lot less data, so it will be much less work than this amount of code). \n",
    "\n",
    "Remember to write up an essay discussing these findings along with your demographic analysis.\n",
    "\n",
    "If you have any questions about the analysis or need any help, again, please email me at castro.ian@berkeley.edu. \n",
    "\n",
    "Otherwise, if you found this interesting or useful, let me know! I work for the Data Science Education Program and if you would be interested in a political data science course or something similar (such as including more data-enabled analyses in your other courses), please fill out the survey below. Your comments and feedback will be very useful and greatly appreciated. Otherwise, if you're interested in working in data science education, such as curriculum and course development, consider applying to the Division of Computing, Data Science, and Society. \n",
    "\n",
    "## Feedback Survey: https://tinyurl.com/106voterdata\n",
    "\n",
    "Thanks! -- Ian"
   ]
  }
 ],
 "metadata": {
  "kernelspec": {
   "display_name": "Python 3",
   "language": "python",
   "name": "python3"
  },
  "language_info": {
   "codemirror_mode": {
    "name": "ipython",
    "version": 3
   },
   "file_extension": ".py",
   "mimetype": "text/x-python",
   "name": "python",
   "nbconvert_exporter": "python",
   "pygments_lexer": "ipython3",
   "version": "3.8.6"
  }
 },
 "nbformat": 4,
 "nbformat_minor": 4
}
